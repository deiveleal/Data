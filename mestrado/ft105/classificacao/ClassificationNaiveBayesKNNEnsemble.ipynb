{
  "cells": [
    {
      "cell_type": "markdown",
      "metadata": {
        "colab_type": "text",
        "id": "view-in-github"
      },
      "source": [
        "<a href=\"https://colab.research.google.com/github/deiveleal/data/blob/main/mestrado/ft105/classificacao/ClassificationNaiveBayesKNNEnsemble.ipynb\" target=\"_parent\"><img src=\"https://colab.research.google.com/assets/colab-badge.svg\" alt=\"Open In Colab\"/></a>"
      ]
    },
    {
      "cell_type": "markdown",
      "metadata": {
        "id": "uPNktyz8B_yX"
      },
      "source": [
        "#FT105A - Tópico Interdisciplinar I: Introdução ao Aprendizado de Máquina\n",
        "### Aluno: Deive Audieres Leal\n",
        "### RA: 083423\n",
        "\n",
        "\n",
        "### Tarefa 2: Naïve Bayes, k-NN e Ensembles\n",
        "\n",
        "#### Link para o repositório: [ClassificationNaiveBayesKNNEnsemble](https://github.com/deiveleal/data/blob/main/mestrado/ft105/classificacao/ClassificationNaiveBayesKNNEnsemble.ipynb)"
      ]
    },
    {
      "cell_type": "markdown",
      "metadata": {
        "id": "R47fR9I8cywn"
      },
      "source": [
        "# Enunciado:\n",
        "\n",
        "Escolha um pacote de software para classificação de dados que tenha implementações de algoritmos de árvores de decisão, Naïve Bayes e k-NN, e aplique estes três algoritmos ao conjunto de dados Liver Disorder:\n",
        "\n",
        "* Utilize subamostragem aleatória com 5 repetições para cada algoritmo e apresente o erro de classificação médio de cada um (para os conjuntos de testes);\n",
        "* Adote uma divisão de 70% dos dados para treinamento e 30% dos dados para teste;\n",
        "* Faça a amostragem antes de iniciar o treinamento e use os mesmos dados para todos os algoritmos (em cada repetição);\n",
        "\n",
        "Para cada repetição, monte um ensemble com os classificadores já treinados (via voto majoritário), aplique ao conjunto de testes e apresente o desempenho médio.\n",
        "\n",
        "ATENÇÃO: Não se esqueça de apresentar no relatório os parâmetros definidos para cada algoritmo (caso existam)!\n",
        "\n",
        "ATENÇÃO: Verifique na documentação do conjunto de dados como definir o atributo alvo, e explique o procedimento adotado no relatório."
      ]
    },
    {
      "cell_type": "markdown",
      "metadata": {
        "id": "6rOZoAHXEDKN"
      },
      "source": [
        "#### Instala o repositório da UCI"
      ]
    },
    {
      "cell_type": "code",
      "execution_count": 1,
      "metadata": {
        "colab": {
          "base_uri": "https://localhost:8080/"
        },
        "id": "PnoKtU2gvUd5",
        "outputId": "9745b282-7c4f-4d29-a2cf-fed65982d446"
      },
      "outputs": [],
      "source": [
        "# !pip install ucimlrepo"
      ]
    },
    {
      "cell_type": "markdown",
      "metadata": {
        "id": "Wohpdo-YxDc9"
      },
      "source": [
        "#### Importação das bibliotecas"
      ]
    },
    {
      "cell_type": "code",
      "execution_count": 2,
      "metadata": {
        "id": "9I-xsZ8exCS5"
      },
      "outputs": [],
      "source": [
        "import pandas as pd\n",
        "from sklearn import metrics\n",
        "from sklearn.model_selection import train_test_split\n",
        "from sklearn import tree\n",
        "from sklearn import naive_bayes as nb\n",
        "from sklearn import neighbors\n",
        "from ucimlrepo import fetch_ucirepo\n",
        "from scipy.stats import mode\n",
        "import numpy as np"
      ]
    },
    {
      "cell_type": "markdown",
      "metadata": {
        "id": "bPG0rTuBPyv8"
      },
      "source": [
        "#### Importa o conjunto de dados"
      ]
    },
    {
      "cell_type": "markdown",
      "metadata": {
        "id": "v5eQ_nGWFB54"
      },
      "source": [
        "#### Realiza a busca dos dados\n"
      ]
    },
    {
      "cell_type": "code",
      "execution_count": 3,
      "metadata": {
        "id": "73e6Wn8QFBsJ"
      },
      "outputs": [],
      "source": [
        "liver_disorders = fetch_ucirepo(id=60)"
      ]
    },
    {
      "cell_type": "markdown",
      "metadata": {
        "id": "nBmyaDVOFH-5"
      },
      "source": [
        "#### Os dados são um dataframe pandas já separado em features e targets (atributo alvo)"
      ]
    },
    {
      "cell_type": "code",
      "execution_count": 4,
      "metadata": {
        "id": "xIkw2_SsFId2"
      },
      "outputs": [],
      "source": [
        "X = liver_disorders.data.features.astype(str)\n",
        "y = liver_disorders.data.targets.astype(str)"
      ]
    },
    {
      "cell_type": "markdown",
      "metadata": {
        "id": "aCwbujoAFOTw"
      },
      "source": [
        "### Mostra o dataframe montado"
      ]
    },
    {
      "cell_type": "code",
      "execution_count": 5,
      "metadata": {
        "colab": {
          "base_uri": "https://localhost:8080/",
          "height": 269
        },
        "id": "9lWt_1PpwNKu",
        "outputId": "55e9f9b1-e3ca-4d79-cb5c-3f7c7af2365b"
      },
      "outputs": [
        {
          "data": {
            "text/html": [
              "<div>\n",
              "<style scoped>\n",
              "    .dataframe tbody tr th:only-of-type {\n",
              "        vertical-align: middle;\n",
              "    }\n",
              "\n",
              "    .dataframe tbody tr th {\n",
              "        vertical-align: top;\n",
              "    }\n",
              "\n",
              "    .dataframe thead th {\n",
              "        text-align: right;\n",
              "    }\n",
              "</style>\n",
              "<table border=\"1\" class=\"dataframe\">\n",
              "  <thead>\n",
              "    <tr style=\"text-align: right;\">\n",
              "      <th></th>\n",
              "      <th>mcv</th>\n",
              "      <th>alkphos</th>\n",
              "      <th>sgpt</th>\n",
              "      <th>sgot</th>\n",
              "      <th>gammagt</th>\n",
              "      <th>drinks</th>\n",
              "    </tr>\n",
              "  </thead>\n",
              "  <tbody>\n",
              "    <tr>\n",
              "      <th>0</th>\n",
              "      <td>85</td>\n",
              "      <td>92</td>\n",
              "      <td>45</td>\n",
              "      <td>27</td>\n",
              "      <td>31</td>\n",
              "      <td>0.0</td>\n",
              "    </tr>\n",
              "    <tr>\n",
              "      <th>1</th>\n",
              "      <td>85</td>\n",
              "      <td>64</td>\n",
              "      <td>59</td>\n",
              "      <td>32</td>\n",
              "      <td>23</td>\n",
              "      <td>0.0</td>\n",
              "    </tr>\n",
              "    <tr>\n",
              "      <th>2</th>\n",
              "      <td>86</td>\n",
              "      <td>54</td>\n",
              "      <td>33</td>\n",
              "      <td>16</td>\n",
              "      <td>54</td>\n",
              "      <td>0.0</td>\n",
              "    </tr>\n",
              "    <tr>\n",
              "      <th>3</th>\n",
              "      <td>91</td>\n",
              "      <td>78</td>\n",
              "      <td>34</td>\n",
              "      <td>24</td>\n",
              "      <td>36</td>\n",
              "      <td>0.0</td>\n",
              "    </tr>\n",
              "    <tr>\n",
              "      <th>4</th>\n",
              "      <td>87</td>\n",
              "      <td>70</td>\n",
              "      <td>12</td>\n",
              "      <td>28</td>\n",
              "      <td>10</td>\n",
              "      <td>0.0</td>\n",
              "    </tr>\n",
              "    <tr>\n",
              "      <th>5</th>\n",
              "      <td>98</td>\n",
              "      <td>55</td>\n",
              "      <td>13</td>\n",
              "      <td>17</td>\n",
              "      <td>17</td>\n",
              "      <td>0.0</td>\n",
              "    </tr>\n",
              "    <tr>\n",
              "      <th>6</th>\n",
              "      <td>88</td>\n",
              "      <td>62</td>\n",
              "      <td>20</td>\n",
              "      <td>17</td>\n",
              "      <td>9</td>\n",
              "      <td>0.5</td>\n",
              "    </tr>\n",
              "  </tbody>\n",
              "</table>\n",
              "</div>"
            ],
            "text/plain": [
              "  mcv alkphos sgpt sgot gammagt drinks\n",
              "0  85      92   45   27      31    0.0\n",
              "1  85      64   59   32      23    0.0\n",
              "2  86      54   33   16      54    0.0\n",
              "3  91      78   34   24      36    0.0\n",
              "4  87      70   12   28      10    0.0\n",
              "5  98      55   13   17      17    0.0\n",
              "6  88      62   20   17       9    0.5"
            ]
          },
          "execution_count": 5,
          "metadata": {},
          "output_type": "execute_result"
        }
      ],
      "source": [
        "pd.concat([X,y], axis=1).head(7)"
      ]
    },
    {
      "cell_type": "markdown",
      "metadata": {
        "id": "CjaM8I0LFuur"
      },
      "source": [
        "##### Cria função com o modelo de árvore de decisão. Foram usados os parâmetros padrões com exceção do criterio que passei a utilizar o 'log_loss' como ganho da informação ao invés do padrão gini. É retornado a acurácia e a previsão do modelo ao final da execução."
      ]
    },
    {
      "cell_type": "code",
      "execution_count": 6,
      "metadata": {
        "id": "cGYeUyfR4tmH"
      },
      "outputs": [],
      "source": [
        "def tree_classifier(X_train, X_test, y_train, y_test):\n",
        "    clf = tree.DecisionTreeClassifier(criterion='log_loss')\n",
        "    clf = clf.fit(X_train,y_train)\n",
        "    y_pred = clf.predict(X_test)\n",
        "    accuracy = metrics.accuracy_score(y_test, y_pred)\n",
        "    return {\"accuracy\":accuracy, \"prediction\":y_pred}"
      ]
    },
    {
      "cell_type": "markdown",
      "metadata": {},
      "source": [
        "##### Cria função com o modelo knn. Foram usados os parâmetros padrões. É retornado a acurácia e a previsão do modelo ao final da execução."
      ]
    },
    {
      "cell_type": "code",
      "execution_count": 7,
      "metadata": {
        "id": "5y9z0Txa9GV6"
      },
      "outputs": [],
      "source": [
        "def knn_classifier(X_train, X_test, y_train, y_test):\n",
        "    clf = neighbors.KNeighborsClassifier()\n",
        "    clf = clf.fit(X_train,y_train)\n",
        "    y_pred = clf.predict(X_test)\n",
        "    accuracy = metrics.accuracy_score(y_test, y_pred)\n",
        "    return {\"accuracy\":accuracy, \"prediction\":y_pred}"
      ]
    },
    {
      "cell_type": "markdown",
      "metadata": {},
      "source": [
        "##### Cria função com o modelo Naive Bayes. Foram usados os parâmetros padrões. É retornado a acurácia e a previsão do modelo ao final da execução."
      ]
    },
    {
      "cell_type": "code",
      "execution_count": 8,
      "metadata": {
        "id": "osrdW0BQ9zVf"
      },
      "outputs": [],
      "source": [
        "def nb_classifier(X_train, X_test, y_train, y_test):\n",
        "    clf = nb.GaussianNB()\n",
        "    clf = clf.fit(X_train,y_train)\n",
        "    y_pred = clf.predict(X_test)\n",
        "    accuracy = metrics.accuracy_score(y_test, y_pred)\n",
        "    return {\"accuracy\":accuracy, \"prediction\":y_pred}"
      ]
    },
    {
      "cell_type": "markdown",
      "metadata": {},
      "source": [
        "##### Cria função que recebe os valores de predição e realiza a votação nos valores"
      ]
    },
    {
      "cell_type": "code",
      "execution_count": 9,
      "metadata": {},
      "outputs": [],
      "source": [
        "def ensemble_voting(predictions):\n",
        "    predictions = [np.array(prediction).astype(float) for prediction in predictions]\n",
        "    predictions_ensemble = mode(predictions, axis=0)[0]\n",
        "    predictions_ensemble = np.squeeze(predictions_ensemble)    \n",
        "    return predictions_ensemble"
      ]
    },
    {
      "cell_type": "markdown",
      "metadata": {},
      "source": [
        "#### Treina os classificadores e realiza a previsão com 5 rodadas de treino e classificação"
      ]
    },
    {
      "cell_type": "code",
      "execution_count": 10,
      "metadata": {
        "id": "Sr4CpBQNDw4c"
      },
      "outputs": [],
      "source": [
        "ensemble_source = {}\n",
        "for execution in range(0, 5):\n",
        "    X_train, X_test, y_train, y_test = train_test_split(X, y, test_size=0.3)\n",
        "    ensemble_source[f\"tree_accuracy_{execution}\"] = tree_classifier(X_train, X_test, y_train, y_test)[\"accuracy\"]\n",
        "    ensemble_source[f\"tree_classification_{execution}\"] = tree_classifier(X_train, X_test, y_train, y_test)[\"prediction\"]\n",
        "    ensemble_source[f\"knn_accuracy_{execution}\"] = tree_classifier(X_train, X_test, y_train, y_test)[\"accuracy\"]\n",
        "    ensemble_source[f\"knn_classification_{execution}\"] = tree_classifier(X_train, X_test, y_train, y_test)[\"prediction\"]\n",
        "    ensemble_source[f\"nb_accuracy_{execution}\"] = tree_classifier(X_train, X_test, y_train, y_test)[\"accuracy\"]\n",
        "    ensemble_source[f\"nb_classification_{execution}\"] = tree_classifier(X_train, X_test, y_train, y_test)[\"prediction\"]"
      ]
    },
    {
      "cell_type": "markdown",
      "metadata": {},
      "source": [
        "#### Cria dataframe com os resultados da classificação"
      ]
    },
    {
      "cell_type": "code",
      "execution_count": 11,
      "metadata": {
        "id": "nJgMy8bSFiaq"
      },
      "outputs": [],
      "source": [
        "df_ensemble = pd.DataFrame(ensemble_source)"
      ]
    },
    {
      "cell_type": "markdown",
      "metadata": {},
      "source": [
        "#### Aplica a votação nos valores preditos"
      ]
    },
    {
      "cell_type": "code",
      "execution_count": 12,
      "metadata": {},
      "outputs": [],
      "source": [
        "predictions_ensemble = ensemble_voting([\n",
        "    list(df_ensemble[\"tree_classification_0\"]),\n",
        "    list(df_ensemble[\"knn_classification_0\"]),\n",
        "    list(df_ensemble[\"nb_classification_0\"]),\n",
        "    list(df_ensemble[\"tree_classification_1\"]),\n",
        "    list(df_ensemble[\"knn_classification_1\"]),\n",
        "    list(df_ensemble[\"nb_classification_1\"]),\n",
        "    list(df_ensemble[\"tree_classification_2\"]),\n",
        "    list(df_ensemble[\"knn_classification_2\"]),\n",
        "    list(df_ensemble[\"nb_classification_2\"]),\n",
        "    list(df_ensemble[\"tree_classification_3\"]),\n",
        "    list(df_ensemble[\"knn_classification_3\"]),\n",
        "    list(df_ensemble[\"nb_classification_3\"]),\n",
        "    list(df_ensemble[\"tree_classification_4\"]),\n",
        "    list(df_ensemble[\"knn_classification_4\"]),\n",
        "    list(df_ensemble[\"nb_classification_4\"])\n",
        "])"
      ]
    },
    {
      "cell_type": "markdown",
      "metadata": {},
      "source": [
        "#### Mostra os valores de previsão após votação"
      ]
    },
    {
      "cell_type": "code",
      "execution_count": 13,
      "metadata": {
        "colab": {
          "base_uri": "https://localhost:8080/",
          "height": 89
        },
        "id": "voN4lSbZHo5x",
        "outputId": "99529bae-3ff4-43e5-c8a5-9fc98a134372"
      },
      "outputs": [
        {
          "data": {
            "text/plain": [
              "0      4.0\n",
              "1      0.5\n",
              "2      6.0\n",
              "3      0.5\n",
              "4      3.0\n",
              "      ... \n",
              "99     0.5\n",
              "100    2.0\n",
              "101    8.0\n",
              "102    0.5\n",
              "103    2.0\n",
              "Name: ensemble, Length: 104, dtype: float64"
            ]
          },
          "execution_count": 13,
          "metadata": {},
          "output_type": "execute_result"
        }
      ],
      "source": [
        "pd.Series(predictions_ensemble, name=\"ensemble\")"
      ]
    }
  ],
  "metadata": {
    "colab": {
      "authorship_tag": "ABX9TyOGD05ZAt6LOSnXWrOj/ZtS",
      "include_colab_link": true,
      "provenance": []
    },
    "kernelspec": {
      "display_name": "Python 3",
      "name": "python3"
    },
    "language_info": {
      "codemirror_mode": {
        "name": "ipython",
        "version": 3
      },
      "file_extension": ".py",
      "mimetype": "text/x-python",
      "name": "python",
      "nbconvert_exporter": "python",
      "pygments_lexer": "ipython3",
      "version": "3.12.1"
    }
  },
  "nbformat": 4,
  "nbformat_minor": 0
}

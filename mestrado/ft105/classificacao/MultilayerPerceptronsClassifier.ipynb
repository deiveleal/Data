{
  "cells": [
    {
      "cell_type": "markdown",
      "metadata": {
        "colab_type": "text",
        "id": "view-in-github"
      },
      "source": [
        "<a href=\"https://colab.research.google.com/github/deiveleal/data/blob/main/mestrado/ft105/classificacao/MultilayerPerceptronsClassifier.ipynb\" target=\"_parent\"><img src=\"https://colab.research.google.com/assets/colab-badge.svg\" alt=\"Open In Colab\"/></a>"
      ]
    },
    {
      "cell_type": "markdown",
      "metadata": {
        "id": "uPNktyz8B_yX"
      },
      "source": [
        "#FT105A - Tópico Interdisciplinar I: Introdução ao Aprendizado de Máquina\n",
        "### Aluno: Deive Audieres Leal\n",
        "### RA: 083423\n",
        "\n",
        "\n",
        "### Tarefa 3: Classification with Multilayer Perceptrons (MLP)\n",
        "\n",
        "#### Link para o repositório: [MultilayerPerceptronsClassifier](https://github.com/deiveleal/data/blob/main/mestrado/ft105/classificacao/MultilayerPerceptrons-MLP.ipynbb)"
      ]
    },
    {
      "cell_type": "markdown",
      "metadata": {
        "id": "sG1sAZdVGN3T"
      },
      "source": [
        "### Enunciado:\n",
        "\n",
        "Escolha uma das ferramentas computacionais  que tenha implementação de redes neurais do tipo MLP, e aplique tal algoritmo ao conjunto de dados Liver Disorder (http://goo.gl/QCuYTc);\n",
        "\n",
        "* Utilize a mesma metodologia da atividade anterior, ou seja, subamostragem aleatória com 5 repetições, sendo 70% dos dados para treinamento e 30% dos dados para teste (em cada repetição);\n",
        "* Faça todos os ajustes necessários no conjunto de dados para que as MLPs possam ser aplicadas (e descreva, no relatório, os ajustes feitos).\n",
        "* Apresente o erro médio de classificação, para o conjunto de testes, e compare os resultados com os obtidos na atividade anterior.\n",
        "\n",
        "Apresente claramente a metodologia adotada, os classificadores utilizados (versões e parâmetros) e discuta os resultados obtidos."
      ]
    },
    {
      "cell_type": "markdown",
      "metadata": {
        "id": "6rOZoAHXEDKN"
      },
      "source": [
        "#### Instala o repositório da UCI"
      ]
    },
    {
      "cell_type": "code",
      "execution_count": 1,
      "metadata": {
        "colab": {
          "base_uri": "https://localhost:8080/"
        },
        "id": "PnoKtU2gvUd5",
        "outputId": "593da4ff-743b-4acb-9982-0b62a505ee1a"
      },
      "outputs": [
        {
          "name": "stdout",
          "output_type": "stream",
          "text": [
            "Requirement already satisfied: ucimlrepo in d:\\gitrepos\\data\\.venv\\lib\\site-packages (0.0.3)\n"
          ]
        }
      ],
      "source": [
        "!pip install ucimlrepo"
      ]
    },
    {
      "cell_type": "markdown",
      "metadata": {
        "id": "Wohpdo-YxDc9"
      },
      "source": [
        "#### Importação das bibliotecas"
      ]
    },
    {
      "cell_type": "code",
      "execution_count": 2,
      "metadata": {
        "id": "9I-xsZ8exCS5"
      },
      "outputs": [],
      "source": [
        "import pandas as pd\n",
        "from sklearn import metrics\n",
        "from sklearn.model_selection import train_test_split\n",
        "from sklearn.neural_network import MLPClassifier\n",
        "from ucimlrepo import fetch_ucirepo\n",
        "from scipy.stats import mode\n",
        "import numpy as np"
      ]
    },
    {
      "cell_type": "markdown",
      "metadata": {
        "id": "bPG0rTuBPyv8"
      },
      "source": [
        "#### Importa o conjunto de dados"
      ]
    },
    {
      "cell_type": "markdown",
      "metadata": {
        "id": "v5eQ_nGWFB54"
      },
      "source": [
        "#### Realiza a busca dos dados\n"
      ]
    },
    {
      "cell_type": "code",
      "execution_count": 3,
      "metadata": {
        "id": "73e6Wn8QFBsJ"
      },
      "outputs": [],
      "source": [
        "liver_disorders = fetch_ucirepo(id=60)"
      ]
    },
    {
      "cell_type": "markdown",
      "metadata": {
        "id": "nBmyaDVOFH-5"
      },
      "source": [
        "#### Os dados são um dataframe pandas já separado em features e targets (atributo alvo)"
      ]
    },
    {
      "cell_type": "code",
      "execution_count": 4,
      "metadata": {
        "id": "xIkw2_SsFId2"
      },
      "outputs": [],
      "source": [
        "X = liver_disorders.data.features.astype(str)\n",
        "y = liver_disorders.data.targets.astype(str)"
      ]
    },
    {
      "cell_type": "markdown",
      "metadata": {
        "id": "aCwbujoAFOTw"
      },
      "source": [
        "### Mostra o dataframe montado"
      ]
    },
    {
      "cell_type": "code",
      "execution_count": 5,
      "metadata": {
        "colab": {
          "base_uri": "https://localhost:8080/",
          "height": 269
        },
        "id": "9lWt_1PpwNKu",
        "outputId": "f2ddb17e-0194-45dc-d2d7-584e0ac45902"
      },
      "outputs": [
        {
          "data": {
            "text/html": [
              "<div>\n",
              "<style scoped>\n",
              "    .dataframe tbody tr th:only-of-type {\n",
              "        vertical-align: middle;\n",
              "    }\n",
              "\n",
              "    .dataframe tbody tr th {\n",
              "        vertical-align: top;\n",
              "    }\n",
              "\n",
              "    .dataframe thead th {\n",
              "        text-align: right;\n",
              "    }\n",
              "</style>\n",
              "<table border=\"1\" class=\"dataframe\">\n",
              "  <thead>\n",
              "    <tr style=\"text-align: right;\">\n",
              "      <th></th>\n",
              "      <th>mcv</th>\n",
              "      <th>alkphos</th>\n",
              "      <th>sgpt</th>\n",
              "      <th>sgot</th>\n",
              "      <th>gammagt</th>\n",
              "      <th>drinks</th>\n",
              "    </tr>\n",
              "  </thead>\n",
              "  <tbody>\n",
              "    <tr>\n",
              "      <th>0</th>\n",
              "      <td>85</td>\n",
              "      <td>92</td>\n",
              "      <td>45</td>\n",
              "      <td>27</td>\n",
              "      <td>31</td>\n",
              "      <td>0.0</td>\n",
              "    </tr>\n",
              "    <tr>\n",
              "      <th>1</th>\n",
              "      <td>85</td>\n",
              "      <td>64</td>\n",
              "      <td>59</td>\n",
              "      <td>32</td>\n",
              "      <td>23</td>\n",
              "      <td>0.0</td>\n",
              "    </tr>\n",
              "    <tr>\n",
              "      <th>2</th>\n",
              "      <td>86</td>\n",
              "      <td>54</td>\n",
              "      <td>33</td>\n",
              "      <td>16</td>\n",
              "      <td>54</td>\n",
              "      <td>0.0</td>\n",
              "    </tr>\n",
              "    <tr>\n",
              "      <th>3</th>\n",
              "      <td>91</td>\n",
              "      <td>78</td>\n",
              "      <td>34</td>\n",
              "      <td>24</td>\n",
              "      <td>36</td>\n",
              "      <td>0.0</td>\n",
              "    </tr>\n",
              "    <tr>\n",
              "      <th>4</th>\n",
              "      <td>87</td>\n",
              "      <td>70</td>\n",
              "      <td>12</td>\n",
              "      <td>28</td>\n",
              "      <td>10</td>\n",
              "      <td>0.0</td>\n",
              "    </tr>\n",
              "    <tr>\n",
              "      <th>5</th>\n",
              "      <td>98</td>\n",
              "      <td>55</td>\n",
              "      <td>13</td>\n",
              "      <td>17</td>\n",
              "      <td>17</td>\n",
              "      <td>0.0</td>\n",
              "    </tr>\n",
              "    <tr>\n",
              "      <th>6</th>\n",
              "      <td>88</td>\n",
              "      <td>62</td>\n",
              "      <td>20</td>\n",
              "      <td>17</td>\n",
              "      <td>9</td>\n",
              "      <td>0.5</td>\n",
              "    </tr>\n",
              "  </tbody>\n",
              "</table>\n",
              "</div>"
            ],
            "text/plain": [
              "  mcv alkphos sgpt sgot gammagt drinks\n",
              "0  85      92   45   27      31    0.0\n",
              "1  85      64   59   32      23    0.0\n",
              "2  86      54   33   16      54    0.0\n",
              "3  91      78   34   24      36    0.0\n",
              "4  87      70   12   28      10    0.0\n",
              "5  98      55   13   17      17    0.0\n",
              "6  88      62   20   17       9    0.5"
            ]
          },
          "execution_count": 5,
          "metadata": {},
          "output_type": "execute_result"
        }
      ],
      "source": [
        "pd.concat([X,y], axis=1).head(7)"
      ]
    },
    {
      "cell_type": "markdown",
      "metadata": {
        "id": "CjaM8I0LFuur"
      },
      "source": [
        "##### Cria função com o modelo de MLP. Foram usados os parâmetros padrões."
      ]
    },
    {
      "cell_type": "code",
      "execution_count": 8,
      "metadata": {
        "id": "cGYeUyfR4tmH"
      },
      "outputs": [],
      "source": [
        "def mlp_classifier(X_train, X_test, y_train, y_test):\n",
        "    clf = MLPClassifier()\n",
        "    clf = clf.fit(X_train,y_train)\n",
        "    y_pred = clf.predict(X_test)\n",
        "    accuracy = metrics.accuracy_score(y_test, y_pred)\n",
        "    return {\"accuracy\":accuracy, \"prediction\":y_pred}"
      ]
    },
    {
      "cell_type": "markdown",
      "metadata": {
        "id": "cLy5nP5Qj5K0"
      },
      "source": [
        "#### Treina os classificadores e realiza a previsão com 5 rodadas de treino e classificação"
      ]
    },
    {
      "cell_type": "code",
      "execution_count": 9,
      "metadata": {
        "id": "Sr4CpBQNDw4c"
      },
      "outputs": [
        {
          "name": "stderr",
          "output_type": "stream",
          "text": [
            "d:\\GitRepos\\data\\.venv\\Lib\\site-packages\\sklearn\\neural_network\\_multilayer_perceptron.py:1101: DataConversionWarning: A column-vector y was passed when a 1d array was expected. Please change the shape of y to (n_samples, ), for example using ravel().\n",
            "  y = column_or_1d(y, warn=True)\n",
            "d:\\GitRepos\\data\\.venv\\Lib\\site-packages\\sklearn\\neural_network\\_multilayer_perceptron.py:1101: DataConversionWarning: A column-vector y was passed when a 1d array was expected. Please change the shape of y to (n_samples, ), for example using ravel().\n",
            "  y = column_or_1d(y, warn=True)\n",
            "d:\\GitRepos\\data\\.venv\\Lib\\site-packages\\sklearn\\neural_network\\_multilayer_perceptron.py:1101: DataConversionWarning: A column-vector y was passed when a 1d array was expected. Please change the shape of y to (n_samples, ), for example using ravel().\n",
            "  y = column_or_1d(y, warn=True)\n",
            "d:\\GitRepos\\data\\.venv\\Lib\\site-packages\\sklearn\\neural_network\\_multilayer_perceptron.py:1101: DataConversionWarning: A column-vector y was passed when a 1d array was expected. Please change the shape of y to (n_samples, ), for example using ravel().\n",
            "  y = column_or_1d(y, warn=True)\n",
            "d:\\GitRepos\\data\\.venv\\Lib\\site-packages\\sklearn\\neural_network\\_multilayer_perceptron.py:1101: DataConversionWarning: A column-vector y was passed when a 1d array was expected. Please change the shape of y to (n_samples, ), for example using ravel().\n",
            "  y = column_or_1d(y, warn=True)\n",
            "d:\\GitRepos\\data\\.venv\\Lib\\site-packages\\sklearn\\neural_network\\_multilayer_perceptron.py:1101: DataConversionWarning: A column-vector y was passed when a 1d array was expected. Please change the shape of y to (n_samples, ), for example using ravel().\n",
            "  y = column_or_1d(y, warn=True)\n",
            "d:\\GitRepos\\data\\.venv\\Lib\\site-packages\\sklearn\\neural_network\\_multilayer_perceptron.py:691: ConvergenceWarning: Stochastic Optimizer: Maximum iterations (200) reached and the optimization hasn't converged yet.\n",
            "  warnings.warn(\n",
            "d:\\GitRepos\\data\\.venv\\Lib\\site-packages\\sklearn\\neural_network\\_multilayer_perceptron.py:1101: DataConversionWarning: A column-vector y was passed when a 1d array was expected. Please change the shape of y to (n_samples, ), for example using ravel().\n",
            "  y = column_or_1d(y, warn=True)\n",
            "d:\\GitRepos\\data\\.venv\\Lib\\site-packages\\sklearn\\neural_network\\_multilayer_perceptron.py:691: ConvergenceWarning: Stochastic Optimizer: Maximum iterations (200) reached and the optimization hasn't converged yet.\n",
            "  warnings.warn(\n",
            "d:\\GitRepos\\data\\.venv\\Lib\\site-packages\\sklearn\\neural_network\\_multilayer_perceptron.py:1101: DataConversionWarning: A column-vector y was passed when a 1d array was expected. Please change the shape of y to (n_samples, ), for example using ravel().\n",
            "  y = column_or_1d(y, warn=True)\n",
            "d:\\GitRepos\\data\\.venv\\Lib\\site-packages\\sklearn\\neural_network\\_multilayer_perceptron.py:1101: DataConversionWarning: A column-vector y was passed when a 1d array was expected. Please change the shape of y to (n_samples, ), for example using ravel().\n",
            "  y = column_or_1d(y, warn=True)\n",
            "d:\\GitRepos\\data\\.venv\\Lib\\site-packages\\sklearn\\neural_network\\_multilayer_perceptron.py:691: ConvergenceWarning: Stochastic Optimizer: Maximum iterations (200) reached and the optimization hasn't converged yet.\n",
            "  warnings.warn(\n",
            "d:\\GitRepos\\data\\.venv\\Lib\\site-packages\\sklearn\\neural_network\\_multilayer_perceptron.py:1101: DataConversionWarning: A column-vector y was passed when a 1d array was expected. Please change the shape of y to (n_samples, ), for example using ravel().\n",
            "  y = column_or_1d(y, warn=True)\n",
            "d:\\GitRepos\\data\\.venv\\Lib\\site-packages\\sklearn\\neural_network\\_multilayer_perceptron.py:691: ConvergenceWarning: Stochastic Optimizer: Maximum iterations (200) reached and the optimization hasn't converged yet.\n",
            "  warnings.warn(\n"
          ]
        }
      ],
      "source": [
        "results = {}\n",
        "for execution in range(0, 5):\n",
        "    X_train, X_test, y_train, y_test = train_test_split(X, y, test_size=0.3)\n",
        "    results[f\"mlp_accuracy_{execution}\"] = mlp_classifier(X_train, X_test, y_train, y_test)[\"accuracy\"]\n",
        "    results[f\"mlp_classification_{execution}\"] = mlp_classifier(X_train, X_test, y_train, y_test)[\"prediction\"]"
      ]
    },
    {
      "cell_type": "markdown",
      "metadata": {
        "id": "hi2QJXAVj5K2"
      },
      "source": [
        "#### Cria dataframe com os resultados da classificação"
      ]
    },
    {
      "cell_type": "code",
      "execution_count": 10,
      "metadata": {
        "id": "nJgMy8bSFiaq"
      },
      "outputs": [
        {
          "data": {
            "text/html": [
              "<div>\n",
              "<style scoped>\n",
              "    .dataframe tbody tr th:only-of-type {\n",
              "        vertical-align: middle;\n",
              "    }\n",
              "\n",
              "    .dataframe tbody tr th {\n",
              "        vertical-align: top;\n",
              "    }\n",
              "\n",
              "    .dataframe thead th {\n",
              "        text-align: right;\n",
              "    }\n",
              "</style>\n",
              "<table border=\"1\" class=\"dataframe\">\n",
              "  <thead>\n",
              "    <tr style=\"text-align: right;\">\n",
              "      <th></th>\n",
              "      <th>mlp_accuracy_0</th>\n",
              "      <th>mlp_classification_0</th>\n",
              "      <th>mlp_accuracy_1</th>\n",
              "      <th>mlp_classification_1</th>\n",
              "      <th>mlp_accuracy_2</th>\n",
              "      <th>mlp_classification_2</th>\n",
              "      <th>mlp_accuracy_3</th>\n",
              "      <th>mlp_classification_3</th>\n",
              "      <th>mlp_accuracy_4</th>\n",
              "      <th>mlp_classification_4</th>\n",
              "    </tr>\n",
              "  </thead>\n",
              "  <tbody>\n",
              "    <tr>\n",
              "      <th>0</th>\n",
              "      <td>0.221154</td>\n",
              "      <td>0.5</td>\n",
              "      <td>0.211538</td>\n",
              "      <td>0.5</td>\n",
              "      <td>0.230769</td>\n",
              "      <td>4.0</td>\n",
              "      <td>0.298077</td>\n",
              "      <td>0.5</td>\n",
              "      <td>0.269231</td>\n",
              "      <td>0.5</td>\n",
              "    </tr>\n",
              "    <tr>\n",
              "      <th>1</th>\n",
              "      <td>0.221154</td>\n",
              "      <td>0.5</td>\n",
              "      <td>0.211538</td>\n",
              "      <td>0.5</td>\n",
              "      <td>0.230769</td>\n",
              "      <td>6.0</td>\n",
              "      <td>0.298077</td>\n",
              "      <td>4.0</td>\n",
              "      <td>0.269231</td>\n",
              "      <td>0.5</td>\n",
              "    </tr>\n",
              "    <tr>\n",
              "      <th>2</th>\n",
              "      <td>0.221154</td>\n",
              "      <td>0.5</td>\n",
              "      <td>0.211538</td>\n",
              "      <td>0.5</td>\n",
              "      <td>0.230769</td>\n",
              "      <td>0.5</td>\n",
              "      <td>0.298077</td>\n",
              "      <td>5.0</td>\n",
              "      <td>0.269231</td>\n",
              "      <td>0.5</td>\n",
              "    </tr>\n",
              "    <tr>\n",
              "      <th>3</th>\n",
              "      <td>0.221154</td>\n",
              "      <td>0.5</td>\n",
              "      <td>0.211538</td>\n",
              "      <td>0.5</td>\n",
              "      <td>0.230769</td>\n",
              "      <td>0.5</td>\n",
              "      <td>0.298077</td>\n",
              "      <td>9.0</td>\n",
              "      <td>0.269231</td>\n",
              "      <td>0.5</td>\n",
              "    </tr>\n",
              "    <tr>\n",
              "      <th>4</th>\n",
              "      <td>0.221154</td>\n",
              "      <td>0.5</td>\n",
              "      <td>0.211538</td>\n",
              "      <td>0.5</td>\n",
              "      <td>0.230769</td>\n",
              "      <td>0.5</td>\n",
              "      <td>0.298077</td>\n",
              "      <td>4.0</td>\n",
              "      <td>0.269231</td>\n",
              "      <td>0.5</td>\n",
              "    </tr>\n",
              "    <tr>\n",
              "      <th>...</th>\n",
              "      <td>...</td>\n",
              "      <td>...</td>\n",
              "      <td>...</td>\n",
              "      <td>...</td>\n",
              "      <td>...</td>\n",
              "      <td>...</td>\n",
              "      <td>...</td>\n",
              "      <td>...</td>\n",
              "      <td>...</td>\n",
              "      <td>...</td>\n",
              "    </tr>\n",
              "    <tr>\n",
              "      <th>99</th>\n",
              "      <td>0.221154</td>\n",
              "      <td>0.5</td>\n",
              "      <td>0.211538</td>\n",
              "      <td>0.5</td>\n",
              "      <td>0.230769</td>\n",
              "      <td>0.5</td>\n",
              "      <td>0.298077</td>\n",
              "      <td>4.0</td>\n",
              "      <td>0.269231</td>\n",
              "      <td>0.5</td>\n",
              "    </tr>\n",
              "    <tr>\n",
              "      <th>100</th>\n",
              "      <td>0.221154</td>\n",
              "      <td>0.5</td>\n",
              "      <td>0.211538</td>\n",
              "      <td>0.5</td>\n",
              "      <td>0.230769</td>\n",
              "      <td>4.0</td>\n",
              "      <td>0.298077</td>\n",
              "      <td>6.0</td>\n",
              "      <td>0.269231</td>\n",
              "      <td>20.0</td>\n",
              "    </tr>\n",
              "    <tr>\n",
              "      <th>101</th>\n",
              "      <td>0.221154</td>\n",
              "      <td>0.5</td>\n",
              "      <td>0.211538</td>\n",
              "      <td>0.5</td>\n",
              "      <td>0.230769</td>\n",
              "      <td>0.5</td>\n",
              "      <td>0.298077</td>\n",
              "      <td>0.5</td>\n",
              "      <td>0.269231</td>\n",
              "      <td>6.0</td>\n",
              "    </tr>\n",
              "    <tr>\n",
              "      <th>102</th>\n",
              "      <td>0.221154</td>\n",
              "      <td>0.5</td>\n",
              "      <td>0.211538</td>\n",
              "      <td>0.5</td>\n",
              "      <td>0.230769</td>\n",
              "      <td>0.5</td>\n",
              "      <td>0.298077</td>\n",
              "      <td>4.0</td>\n",
              "      <td>0.269231</td>\n",
              "      <td>12.0</td>\n",
              "    </tr>\n",
              "    <tr>\n",
              "      <th>103</th>\n",
              "      <td>0.221154</td>\n",
              "      <td>6.0</td>\n",
              "      <td>0.211538</td>\n",
              "      <td>0.5</td>\n",
              "      <td>0.230769</td>\n",
              "      <td>4.0</td>\n",
              "      <td>0.298077</td>\n",
              "      <td>12.0</td>\n",
              "      <td>0.269231</td>\n",
              "      <td>0.5</td>\n",
              "    </tr>\n",
              "  </tbody>\n",
              "</table>\n",
              "<p>104 rows × 10 columns</p>\n",
              "</div>"
            ],
            "text/plain": [
              "     mlp_accuracy_0 mlp_classification_0  mlp_accuracy_1 mlp_classification_1  \\\n",
              "0          0.221154                  0.5        0.211538                  0.5   \n",
              "1          0.221154                  0.5        0.211538                  0.5   \n",
              "2          0.221154                  0.5        0.211538                  0.5   \n",
              "3          0.221154                  0.5        0.211538                  0.5   \n",
              "4          0.221154                  0.5        0.211538                  0.5   \n",
              "..              ...                  ...             ...                  ...   \n",
              "99         0.221154                  0.5        0.211538                  0.5   \n",
              "100        0.221154                  0.5        0.211538                  0.5   \n",
              "101        0.221154                  0.5        0.211538                  0.5   \n",
              "102        0.221154                  0.5        0.211538                  0.5   \n",
              "103        0.221154                  6.0        0.211538                  0.5   \n",
              "\n",
              "     mlp_accuracy_2 mlp_classification_2  mlp_accuracy_3 mlp_classification_3  \\\n",
              "0          0.230769                  4.0        0.298077                  0.5   \n",
              "1          0.230769                  6.0        0.298077                  4.0   \n",
              "2          0.230769                  0.5        0.298077                  5.0   \n",
              "3          0.230769                  0.5        0.298077                  9.0   \n",
              "4          0.230769                  0.5        0.298077                  4.0   \n",
              "..              ...                  ...             ...                  ...   \n",
              "99         0.230769                  0.5        0.298077                  4.0   \n",
              "100        0.230769                  4.0        0.298077                  6.0   \n",
              "101        0.230769                  0.5        0.298077                  0.5   \n",
              "102        0.230769                  0.5        0.298077                  4.0   \n",
              "103        0.230769                  4.0        0.298077                 12.0   \n",
              "\n",
              "     mlp_accuracy_4 mlp_classification_4  \n",
              "0          0.269231                  0.5  \n",
              "1          0.269231                  0.5  \n",
              "2          0.269231                  0.5  \n",
              "3          0.269231                  0.5  \n",
              "4          0.269231                  0.5  \n",
              "..              ...                  ...  \n",
              "99         0.269231                  0.5  \n",
              "100        0.269231                 20.0  \n",
              "101        0.269231                  6.0  \n",
              "102        0.269231                 12.0  \n",
              "103        0.269231                  0.5  \n",
              "\n",
              "[104 rows x 10 columns]"
            ]
          },
          "execution_count": 10,
          "metadata": {},
          "output_type": "execute_result"
        }
      ],
      "source": [
        "df_results = pd.DataFrame(results)\n",
        "df_results"
      ]
    },
    {
      "cell_type": "markdown",
      "metadata": {
        "id": "R_ZEnHfAj5K4"
      },
      "source": [
        "#### Aplica a votação nos valores preditos"
      ]
    },
    {
      "cell_type": "code",
      "execution_count": null,
      "metadata": {
        "id": "On80BowNj5K4"
      },
      "outputs": [],
      "source": [
        "predictions_ensemble = ensemble_voting([\n",
        "    list(df_ensemble[\"tree_classification_0\"]),\n",
        "    list(df_ensemble[\"knn_classification_0\"]),\n",
        "    list(df_ensemble[\"nb_classification_0\"]),\n",
        "    list(df_ensemble[\"tree_classification_1\"]),\n",
        "    list(df_ensemble[\"knn_classification_1\"]),\n",
        "    list(df_ensemble[\"nb_classification_1\"]),\n",
        "    list(df_ensemble[\"tree_classification_2\"]),\n",
        "    list(df_ensemble[\"knn_classification_2\"]),\n",
        "    list(df_ensemble[\"nb_classification_2\"]),\n",
        "    list(df_ensemble[\"tree_classification_3\"]),\n",
        "    list(df_ensemble[\"knn_classification_3\"]),\n",
        "    list(df_ensemble[\"nb_classification_3\"]),\n",
        "    list(df_ensemble[\"tree_classification_4\"]),\n",
        "    list(df_ensemble[\"knn_classification_4\"]),\n",
        "    list(df_ensemble[\"nb_classification_4\"])\n",
        "])"
      ]
    },
    {
      "cell_type": "markdown",
      "metadata": {
        "id": "BfRheIQkj5K5"
      },
      "source": [
        "#### Mostra os valores de previsão após votação"
      ]
    },
    {
      "cell_type": "code",
      "execution_count": null,
      "metadata": {
        "colab": {
          "base_uri": "https://localhost:8080/"
        },
        "id": "voN4lSbZHo5x",
        "outputId": "a1f4f919-0ed1-4960-9035-f2dd5905bf37"
      },
      "outputs": [
        {
          "data": {
            "text/plain": [
              "0       4.0\n",
              "1       0.5\n",
              "2       0.5\n",
              "3      12.0\n",
              "4       0.5\n",
              "       ... \n",
              "99      2.0\n",
              "100     0.5\n",
              "101     6.0\n",
              "102     0.5\n",
              "103     0.5\n",
              "Name: ensemble, Length: 104, dtype: float64"
            ]
          },
          "execution_count": 13,
          "metadata": {},
          "output_type": "execute_result"
        }
      ],
      "source": [
        "pd.Series(predictions_ensemble, name=\"ensemble\")"
      ]
    }
  ],
  "metadata": {
    "colab": {
      "include_colab_link": true,
      "provenance": []
    },
    "kernelspec": {
      "display_name": "Python 3",
      "name": "python3"
    },
    "language_info": {
      "codemirror_mode": {
        "name": "ipython",
        "version": 3
      },
      "file_extension": ".py",
      "mimetype": "text/x-python",
      "name": "python",
      "nbconvert_exporter": "python",
      "pygments_lexer": "ipython3",
      "version": "3.12.1"
    }
  },
  "nbformat": 4,
  "nbformat_minor": 0
}

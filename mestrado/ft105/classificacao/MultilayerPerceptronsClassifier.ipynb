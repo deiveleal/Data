{
  "cells": [
    {
      "cell_type": "markdown",
      "metadata": {
        "id": "view-in-github",
        "colab_type": "text"
      },
      "source": [
        "<a href=\"https://colab.research.google.com/github/deiveleal/data/blob/main/mestrado/ft105/classificacao/MultilayerPerceptronsClassifier.ipynb\" target=\"_parent\"><img src=\"https://colab.research.google.com/assets/colab-badge.svg\" alt=\"Open In Colab\"/></a>"
      ]
    },
    {
      "cell_type": "markdown",
      "metadata": {
        "id": "uPNktyz8B_yX"
      },
      "source": [
        "#FT105A - Tópico Interdisciplinar I: Introdução ao Aprendizado de Máquina\n",
        "### Aluno: Deive Audieres Leal\n",
        "### RA: 083423\n",
        "\n",
        "\n",
        "### Tarefa 3: Classification with Multilayer Perceptrons (MLP)\n",
        "\n",
        "#### Link para o repositório: [MultilayerPerceptronsClassifier](https://github.com/deiveleal/data/blob/main/mestrado/ft105/classificacao/MultilayerPerceptrons-MLP.ipynbb)"
      ]
    },
    {
      "cell_type": "markdown",
      "source": [
        "### Enunciado:\n",
        "\n",
        "Escolha uma das ferramentas computacionais  que tenha implementação de redes neurais do tipo MLP, e aplique tal algoritmo ao conjunto de dados Liver Disorder (http://goo.gl/QCuYTc);\n",
        "\n",
        "* Utilize a mesma metodologia da atividade anterior, ou seja, subamostragem aleatória com 5 repetições, sendo 70% dos dados para treinamento e 30% dos dados para teste (em cada repetição);\n",
        "* Faça todos os ajustes necessários no conjunto de dados para que as MLPs possam ser aplicadas (e descreva, no relatório, os ajustes feitos).\n",
        "* Apresente o erro médio de classificação, para o conjunto de testes, e compare os resultados com os obtidos na atividade anterior.\n",
        "\n",
        "Apresente claramente a metodologia adotada, os classificadores utilizados (versões e parâmetros) e discuta os resultados obtidos."
      ],
      "metadata": {
        "id": "sG1sAZdVGN3T"
      }
    },
    {
      "cell_type": "markdown",
      "metadata": {
        "id": "6rOZoAHXEDKN"
      },
      "source": [
        "#### Instala o repositório da UCI"
      ]
    },
    {
      "cell_type": "code",
      "execution_count": null,
      "metadata": {
        "colab": {
          "base_uri": "https://localhost:8080/"
        },
        "id": "PnoKtU2gvUd5",
        "outputId": "593da4ff-743b-4acb-9982-0b62a505ee1a"
      },
      "outputs": [
        {
          "output_type": "stream",
          "name": "stdout",
          "text": [
            "Requirement already satisfied: ucimlrepo in /usr/local/lib/python3.10/dist-packages (0.0.3)\n"
          ]
        }
      ],
      "source": [
        "!pip install ucimlrepo"
      ]
    },
    {
      "cell_type": "markdown",
      "metadata": {
        "id": "Wohpdo-YxDc9"
      },
      "source": [
        "#### Importação das bibliotecas"
      ]
    },
    {
      "cell_type": "code",
      "execution_count": null,
      "metadata": {
        "id": "9I-xsZ8exCS5"
      },
      "outputs": [],
      "source": [
        "import pandas as pd\n",
        "from sklearn import metrics\n",
        "from sklearn.model_selection import train_test_split\n",
        "from sklearn import tree\n",
        "from sklearn import naive_bayes as nb\n",
        "from sklearn import neighbors\n",
        "from ucimlrepo import fetch_ucirepo\n",
        "from scipy.stats import mode\n",
        "import numpy as np"
      ]
    },
    {
      "cell_type": "markdown",
      "metadata": {
        "id": "bPG0rTuBPyv8"
      },
      "source": [
        "#### Importa o conjunto de dados"
      ]
    },
    {
      "cell_type": "markdown",
      "metadata": {
        "id": "v5eQ_nGWFB54"
      },
      "source": [
        "#### Realiza a busca dos dados\n"
      ]
    },
    {
      "cell_type": "code",
      "execution_count": null,
      "metadata": {
        "id": "73e6Wn8QFBsJ"
      },
      "outputs": [],
      "source": [
        "liver_disorders = fetch_ucirepo(id=60)"
      ]
    },
    {
      "cell_type": "markdown",
      "metadata": {
        "id": "nBmyaDVOFH-5"
      },
      "source": [
        "#### Os dados são um dataframe pandas já separado em features e targets (atributo alvo)"
      ]
    },
    {
      "cell_type": "code",
      "execution_count": null,
      "metadata": {
        "id": "xIkw2_SsFId2"
      },
      "outputs": [],
      "source": [
        "X = liver_disorders.data.features.astype(str)\n",
        "y = liver_disorders.data.targets.astype(str)"
      ]
    },
    {
      "cell_type": "markdown",
      "metadata": {
        "id": "aCwbujoAFOTw"
      },
      "source": [
        "### Mostra o dataframe montado"
      ]
    },
    {
      "cell_type": "code",
      "execution_count": null,
      "metadata": {
        "colab": {
          "base_uri": "https://localhost:8080/",
          "height": 269
        },
        "id": "9lWt_1PpwNKu",
        "outputId": "f2ddb17e-0194-45dc-d2d7-584e0ac45902"
      },
      "outputs": [
        {
          "output_type": "execute_result",
          "data": {
            "text/plain": [
              "  mcv alkphos sgpt sgot gammagt drinks\n",
              "0  85      92   45   27      31    0.0\n",
              "1  85      64   59   32      23    0.0\n",
              "2  86      54   33   16      54    0.0\n",
              "3  91      78   34   24      36    0.0\n",
              "4  87      70   12   28      10    0.0\n",
              "5  98      55   13   17      17    0.0\n",
              "6  88      62   20   17       9    0.5"
            ],
            "text/html": [
              "\n",
              "  <div id=\"df-45b0583d-413e-47d5-9235-b3dd69e3c0cb\" class=\"colab-df-container\">\n",
              "    <div>\n",
              "<style scoped>\n",
              "    .dataframe tbody tr th:only-of-type {\n",
              "        vertical-align: middle;\n",
              "    }\n",
              "\n",
              "    .dataframe tbody tr th {\n",
              "        vertical-align: top;\n",
              "    }\n",
              "\n",
              "    .dataframe thead th {\n",
              "        text-align: right;\n",
              "    }\n",
              "</style>\n",
              "<table border=\"1\" class=\"dataframe\">\n",
              "  <thead>\n",
              "    <tr style=\"text-align: right;\">\n",
              "      <th></th>\n",
              "      <th>mcv</th>\n",
              "      <th>alkphos</th>\n",
              "      <th>sgpt</th>\n",
              "      <th>sgot</th>\n",
              "      <th>gammagt</th>\n",
              "      <th>drinks</th>\n",
              "    </tr>\n",
              "  </thead>\n",
              "  <tbody>\n",
              "    <tr>\n",
              "      <th>0</th>\n",
              "      <td>85</td>\n",
              "      <td>92</td>\n",
              "      <td>45</td>\n",
              "      <td>27</td>\n",
              "      <td>31</td>\n",
              "      <td>0.0</td>\n",
              "    </tr>\n",
              "    <tr>\n",
              "      <th>1</th>\n",
              "      <td>85</td>\n",
              "      <td>64</td>\n",
              "      <td>59</td>\n",
              "      <td>32</td>\n",
              "      <td>23</td>\n",
              "      <td>0.0</td>\n",
              "    </tr>\n",
              "    <tr>\n",
              "      <th>2</th>\n",
              "      <td>86</td>\n",
              "      <td>54</td>\n",
              "      <td>33</td>\n",
              "      <td>16</td>\n",
              "      <td>54</td>\n",
              "      <td>0.0</td>\n",
              "    </tr>\n",
              "    <tr>\n",
              "      <th>3</th>\n",
              "      <td>91</td>\n",
              "      <td>78</td>\n",
              "      <td>34</td>\n",
              "      <td>24</td>\n",
              "      <td>36</td>\n",
              "      <td>0.0</td>\n",
              "    </tr>\n",
              "    <tr>\n",
              "      <th>4</th>\n",
              "      <td>87</td>\n",
              "      <td>70</td>\n",
              "      <td>12</td>\n",
              "      <td>28</td>\n",
              "      <td>10</td>\n",
              "      <td>0.0</td>\n",
              "    </tr>\n",
              "    <tr>\n",
              "      <th>5</th>\n",
              "      <td>98</td>\n",
              "      <td>55</td>\n",
              "      <td>13</td>\n",
              "      <td>17</td>\n",
              "      <td>17</td>\n",
              "      <td>0.0</td>\n",
              "    </tr>\n",
              "    <tr>\n",
              "      <th>6</th>\n",
              "      <td>88</td>\n",
              "      <td>62</td>\n",
              "      <td>20</td>\n",
              "      <td>17</td>\n",
              "      <td>9</td>\n",
              "      <td>0.5</td>\n",
              "    </tr>\n",
              "  </tbody>\n",
              "</table>\n",
              "</div>\n",
              "    <div class=\"colab-df-buttons\">\n",
              "\n",
              "  <div class=\"colab-df-container\">\n",
              "    <button class=\"colab-df-convert\" onclick=\"convertToInteractive('df-45b0583d-413e-47d5-9235-b3dd69e3c0cb')\"\n",
              "            title=\"Convert this dataframe to an interactive table.\"\n",
              "            style=\"display:none;\">\n",
              "\n",
              "  <svg xmlns=\"http://www.w3.org/2000/svg\" height=\"24px\" viewBox=\"0 -960 960 960\">\n",
              "    <path d=\"M120-120v-720h720v720H120Zm60-500h600v-160H180v160Zm220 220h160v-160H400v160Zm0 220h160v-160H400v160ZM180-400h160v-160H180v160Zm440 0h160v-160H620v160ZM180-180h160v-160H180v160Zm440 0h160v-160H620v160Z\"/>\n",
              "  </svg>\n",
              "    </button>\n",
              "\n",
              "  <style>\n",
              "    .colab-df-container {\n",
              "      display:flex;\n",
              "      gap: 12px;\n",
              "    }\n",
              "\n",
              "    .colab-df-convert {\n",
              "      background-color: #E8F0FE;\n",
              "      border: none;\n",
              "      border-radius: 50%;\n",
              "      cursor: pointer;\n",
              "      display: none;\n",
              "      fill: #1967D2;\n",
              "      height: 32px;\n",
              "      padding: 0 0 0 0;\n",
              "      width: 32px;\n",
              "    }\n",
              "\n",
              "    .colab-df-convert:hover {\n",
              "      background-color: #E2EBFA;\n",
              "      box-shadow: 0px 1px 2px rgba(60, 64, 67, 0.3), 0px 1px 3px 1px rgba(60, 64, 67, 0.15);\n",
              "      fill: #174EA6;\n",
              "    }\n",
              "\n",
              "    .colab-df-buttons div {\n",
              "      margin-bottom: 4px;\n",
              "    }\n",
              "\n",
              "    [theme=dark] .colab-df-convert {\n",
              "      background-color: #3B4455;\n",
              "      fill: #D2E3FC;\n",
              "    }\n",
              "\n",
              "    [theme=dark] .colab-df-convert:hover {\n",
              "      background-color: #434B5C;\n",
              "      box-shadow: 0px 1px 3px 1px rgba(0, 0, 0, 0.15);\n",
              "      filter: drop-shadow(0px 1px 2px rgba(0, 0, 0, 0.3));\n",
              "      fill: #FFFFFF;\n",
              "    }\n",
              "  </style>\n",
              "\n",
              "    <script>\n",
              "      const buttonEl =\n",
              "        document.querySelector('#df-45b0583d-413e-47d5-9235-b3dd69e3c0cb button.colab-df-convert');\n",
              "      buttonEl.style.display =\n",
              "        google.colab.kernel.accessAllowed ? 'block' : 'none';\n",
              "\n",
              "      async function convertToInteractive(key) {\n",
              "        const element = document.querySelector('#df-45b0583d-413e-47d5-9235-b3dd69e3c0cb');\n",
              "        const dataTable =\n",
              "          await google.colab.kernel.invokeFunction('convertToInteractive',\n",
              "                                                    [key], {});\n",
              "        if (!dataTable) return;\n",
              "\n",
              "        const docLinkHtml = 'Like what you see? Visit the ' +\n",
              "          '<a target=\"_blank\" href=https://colab.research.google.com/notebooks/data_table.ipynb>data table notebook</a>'\n",
              "          + ' to learn more about interactive tables.';\n",
              "        element.innerHTML = '';\n",
              "        dataTable['output_type'] = 'display_data';\n",
              "        await google.colab.output.renderOutput(dataTable, element);\n",
              "        const docLink = document.createElement('div');\n",
              "        docLink.innerHTML = docLinkHtml;\n",
              "        element.appendChild(docLink);\n",
              "      }\n",
              "    </script>\n",
              "  </div>\n",
              "\n",
              "\n",
              "<div id=\"df-342c75a0-89c8-4f95-9724-63755f534ee6\">\n",
              "  <button class=\"colab-df-quickchart\" onclick=\"quickchart('df-342c75a0-89c8-4f95-9724-63755f534ee6')\"\n",
              "            title=\"Suggest charts\"\n",
              "            style=\"display:none;\">\n",
              "\n",
              "<svg xmlns=\"http://www.w3.org/2000/svg\" height=\"24px\"viewBox=\"0 0 24 24\"\n",
              "     width=\"24px\">\n",
              "    <g>\n",
              "        <path d=\"M19 3H5c-1.1 0-2 .9-2 2v14c0 1.1.9 2 2 2h14c1.1 0 2-.9 2-2V5c0-1.1-.9-2-2-2zM9 17H7v-7h2v7zm4 0h-2V7h2v10zm4 0h-2v-4h2v4z\"/>\n",
              "    </g>\n",
              "</svg>\n",
              "  </button>\n",
              "\n",
              "<style>\n",
              "  .colab-df-quickchart {\n",
              "      --bg-color: #E8F0FE;\n",
              "      --fill-color: #1967D2;\n",
              "      --hover-bg-color: #E2EBFA;\n",
              "      --hover-fill-color: #174EA6;\n",
              "      --disabled-fill-color: #AAA;\n",
              "      --disabled-bg-color: #DDD;\n",
              "  }\n",
              "\n",
              "  [theme=dark] .colab-df-quickchart {\n",
              "      --bg-color: #3B4455;\n",
              "      --fill-color: #D2E3FC;\n",
              "      --hover-bg-color: #434B5C;\n",
              "      --hover-fill-color: #FFFFFF;\n",
              "      --disabled-bg-color: #3B4455;\n",
              "      --disabled-fill-color: #666;\n",
              "  }\n",
              "\n",
              "  .colab-df-quickchart {\n",
              "    background-color: var(--bg-color);\n",
              "    border: none;\n",
              "    border-radius: 50%;\n",
              "    cursor: pointer;\n",
              "    display: none;\n",
              "    fill: var(--fill-color);\n",
              "    height: 32px;\n",
              "    padding: 0;\n",
              "    width: 32px;\n",
              "  }\n",
              "\n",
              "  .colab-df-quickchart:hover {\n",
              "    background-color: var(--hover-bg-color);\n",
              "    box-shadow: 0 1px 2px rgba(60, 64, 67, 0.3), 0 1px 3px 1px rgba(60, 64, 67, 0.15);\n",
              "    fill: var(--button-hover-fill-color);\n",
              "  }\n",
              "\n",
              "  .colab-df-quickchart-complete:disabled,\n",
              "  .colab-df-quickchart-complete:disabled:hover {\n",
              "    background-color: var(--disabled-bg-color);\n",
              "    fill: var(--disabled-fill-color);\n",
              "    box-shadow: none;\n",
              "  }\n",
              "\n",
              "  .colab-df-spinner {\n",
              "    border: 2px solid var(--fill-color);\n",
              "    border-color: transparent;\n",
              "    border-bottom-color: var(--fill-color);\n",
              "    animation:\n",
              "      spin 1s steps(1) infinite;\n",
              "  }\n",
              "\n",
              "  @keyframes spin {\n",
              "    0% {\n",
              "      border-color: transparent;\n",
              "      border-bottom-color: var(--fill-color);\n",
              "      border-left-color: var(--fill-color);\n",
              "    }\n",
              "    20% {\n",
              "      border-color: transparent;\n",
              "      border-left-color: var(--fill-color);\n",
              "      border-top-color: var(--fill-color);\n",
              "    }\n",
              "    30% {\n",
              "      border-color: transparent;\n",
              "      border-left-color: var(--fill-color);\n",
              "      border-top-color: var(--fill-color);\n",
              "      border-right-color: var(--fill-color);\n",
              "    }\n",
              "    40% {\n",
              "      border-color: transparent;\n",
              "      border-right-color: var(--fill-color);\n",
              "      border-top-color: var(--fill-color);\n",
              "    }\n",
              "    60% {\n",
              "      border-color: transparent;\n",
              "      border-right-color: var(--fill-color);\n",
              "    }\n",
              "    80% {\n",
              "      border-color: transparent;\n",
              "      border-right-color: var(--fill-color);\n",
              "      border-bottom-color: var(--fill-color);\n",
              "    }\n",
              "    90% {\n",
              "      border-color: transparent;\n",
              "      border-bottom-color: var(--fill-color);\n",
              "    }\n",
              "  }\n",
              "</style>\n",
              "\n",
              "  <script>\n",
              "    async function quickchart(key) {\n",
              "      const quickchartButtonEl =\n",
              "        document.querySelector('#' + key + ' button');\n",
              "      quickchartButtonEl.disabled = true;  // To prevent multiple clicks.\n",
              "      quickchartButtonEl.classList.add('colab-df-spinner');\n",
              "      try {\n",
              "        const charts = await google.colab.kernel.invokeFunction(\n",
              "            'suggestCharts', [key], {});\n",
              "      } catch (error) {\n",
              "        console.error('Error during call to suggestCharts:', error);\n",
              "      }\n",
              "      quickchartButtonEl.classList.remove('colab-df-spinner');\n",
              "      quickchartButtonEl.classList.add('colab-df-quickchart-complete');\n",
              "    }\n",
              "    (() => {\n",
              "      let quickchartButtonEl =\n",
              "        document.querySelector('#df-342c75a0-89c8-4f95-9724-63755f534ee6 button');\n",
              "      quickchartButtonEl.style.display =\n",
              "        google.colab.kernel.accessAllowed ? 'block' : 'none';\n",
              "    })();\n",
              "  </script>\n",
              "</div>\n",
              "\n",
              "    </div>\n",
              "  </div>\n"
            ],
            "application/vnd.google.colaboratory.intrinsic+json": {
              "type": "dataframe",
              "summary": "{\n  \"name\": \"pd\",\n  \"rows\": 7,\n  \"fields\": [\n    {\n      \"column\": \"mcv\",\n      \"properties\": {\n        \"dtype\": \"string\",\n        \"num_unique_values\": 6,\n        \"samples\": [\n          \"85\",\n          \"86\",\n          \"88\"\n        ],\n        \"semantic_type\": \"\",\n        \"description\": \"\"\n      }\n    },\n    {\n      \"column\": \"alkphos\",\n      \"properties\": {\n        \"dtype\": \"string\",\n        \"num_unique_values\": 7,\n        \"samples\": [\n          \"92\",\n          \"64\",\n          \"55\"\n        ],\n        \"semantic_type\": \"\",\n        \"description\": \"\"\n      }\n    },\n    {\n      \"column\": \"sgpt\",\n      \"properties\": {\n        \"dtype\": \"string\",\n        \"num_unique_values\": 7,\n        \"samples\": [\n          \"45\",\n          \"59\",\n          \"13\"\n        ],\n        \"semantic_type\": \"\",\n        \"description\": \"\"\n      }\n    },\n    {\n      \"column\": \"sgot\",\n      \"properties\": {\n        \"dtype\": \"string\",\n        \"num_unique_values\": 6,\n        \"samples\": [\n          \"27\",\n          \"32\",\n          \"17\"\n        ],\n        \"semantic_type\": \"\",\n        \"description\": \"\"\n      }\n    },\n    {\n      \"column\": \"gammagt\",\n      \"properties\": {\n        \"dtype\": \"string\",\n        \"num_unique_values\": 7,\n        \"samples\": [\n          \"31\",\n          \"23\",\n          \"17\"\n        ],\n        \"semantic_type\": \"\",\n        \"description\": \"\"\n      }\n    },\n    {\n      \"column\": \"drinks\",\n      \"properties\": {\n        \"dtype\": \"category\",\n        \"num_unique_values\": 2,\n        \"samples\": [\n          \"0.5\",\n          \"0.0\"\n        ],\n        \"semantic_type\": \"\",\n        \"description\": \"\"\n      }\n    }\n  ]\n}"
            }
          },
          "metadata": {},
          "execution_count": 5
        }
      ],
      "source": [
        "pd.concat([X,y], axis=1).head(7)"
      ]
    },
    {
      "cell_type": "markdown",
      "metadata": {
        "id": "CjaM8I0LFuur"
      },
      "source": [
        "##### Cria função com o modelo de árvore de decisão. Foram usados os parâmetros padrões com exceção do criterio que passei a utilizar o 'log_loss' como ganho da informação ao invés do padrão gini. É retornado a acurácia e a previsão do modelo ao final da execução."
      ]
    },
    {
      "cell_type": "code",
      "execution_count": null,
      "metadata": {
        "id": "cGYeUyfR4tmH"
      },
      "outputs": [],
      "source": [
        "def tree_classifier(X_train, X_test, y_train, y_test):\n",
        "    clf = tree.DecisionTreeClassifier(criterion='log_loss')\n",
        "    clf = clf.fit(X_train,y_train)\n",
        "    y_pred = clf.predict(X_test)\n",
        "    accuracy = metrics.accuracy_score(y_test, y_pred)\n",
        "    return {\"accuracy\":accuracy, \"prediction\":y_pred}"
      ]
    },
    {
      "cell_type": "markdown",
      "metadata": {
        "id": "bfUBPLHNj5Kw"
      },
      "source": [
        "##### Cria função com o modelo knn. Foram usados os parâmetros padrões. É retornado a acurácia e a previsão do modelo ao final da execução."
      ]
    },
    {
      "cell_type": "code",
      "execution_count": null,
      "metadata": {
        "id": "5y9z0Txa9GV6"
      },
      "outputs": [],
      "source": [
        "def knn_classifier(X_train, X_test, y_train, y_test):\n",
        "    clf = neighbors.KNeighborsClassifier()\n",
        "    clf = clf.fit(X_train,y_train)\n",
        "    y_pred = clf.predict(X_test)\n",
        "    accuracy = metrics.accuracy_score(y_test, y_pred)\n",
        "    return {\"accuracy\":accuracy, \"prediction\":y_pred}"
      ]
    },
    {
      "cell_type": "markdown",
      "metadata": {
        "id": "YH0oMSZ7j5Kx"
      },
      "source": [
        "##### Cria função com o modelo Naive Bayes. Foram usados os parâmetros padrões. É retornado a acurácia e a previsão do modelo ao final da execução."
      ]
    },
    {
      "cell_type": "code",
      "execution_count": null,
      "metadata": {
        "id": "osrdW0BQ9zVf"
      },
      "outputs": [],
      "source": [
        "def nb_classifier(X_train, X_test, y_train, y_test):\n",
        "    clf = nb.GaussianNB()\n",
        "    clf = clf.fit(X_train,y_train)\n",
        "    y_pred = clf.predict(X_test)\n",
        "    accuracy = metrics.accuracy_score(y_test, y_pred)\n",
        "    return {\"accuracy\":accuracy, \"prediction\":y_pred}"
      ]
    },
    {
      "cell_type": "markdown",
      "metadata": {
        "id": "kAHcZ__1j5Ky"
      },
      "source": [
        "##### Cria função que recebe os valores de predição e realiza a votação nos valores"
      ]
    },
    {
      "cell_type": "code",
      "execution_count": null,
      "metadata": {
        "id": "UP_LVacVj5Kz"
      },
      "outputs": [],
      "source": [
        "def ensemble_voting(predictions):\n",
        "    predictions = [np.array(prediction).astype(float) for prediction in predictions]\n",
        "    predictions_ensemble = mode(predictions, axis=0)[0]\n",
        "    predictions_ensemble = np.squeeze(predictions_ensemble)\n",
        "    return predictions_ensemble"
      ]
    },
    {
      "cell_type": "markdown",
      "metadata": {
        "id": "cLy5nP5Qj5K0"
      },
      "source": [
        "#### Treina os classificadores e realiza a previsão com 5 rodadas de treino e classificação"
      ]
    },
    {
      "cell_type": "code",
      "execution_count": null,
      "metadata": {
        "id": "Sr4CpBQNDw4c"
      },
      "outputs": [],
      "source": [
        "ensemble_source = {}\n",
        "for execution in range(0, 5):\n",
        "    X_train, X_test, y_train, y_test = train_test_split(X, y, test_size=0.3)\n",
        "    ensemble_source[f\"tree_accuracy_{execution}\"] = tree_classifier(X_train, X_test, y_train, y_test)[\"accuracy\"]\n",
        "    ensemble_source[f\"tree_classification_{execution}\"] = tree_classifier(X_train, X_test, y_train, y_test)[\"prediction\"]\n",
        "    ensemble_source[f\"knn_accuracy_{execution}\"] = tree_classifier(X_train, X_test, y_train, y_test)[\"accuracy\"]\n",
        "    ensemble_source[f\"knn_classification_{execution}\"] = tree_classifier(X_train, X_test, y_train, y_test)[\"prediction\"]\n",
        "    ensemble_source[f\"nb_accuracy_{execution}\"] = tree_classifier(X_train, X_test, y_train, y_test)[\"accuracy\"]\n",
        "    ensemble_source[f\"nb_classification_{execution}\"] = tree_classifier(X_train, X_test, y_train, y_test)[\"prediction\"]"
      ]
    },
    {
      "cell_type": "markdown",
      "metadata": {
        "id": "hi2QJXAVj5K2"
      },
      "source": [
        "#### Cria dataframe com os resultados da classificação"
      ]
    },
    {
      "cell_type": "code",
      "execution_count": null,
      "metadata": {
        "id": "nJgMy8bSFiaq"
      },
      "outputs": [],
      "source": [
        "df_ensemble = pd.DataFrame(ensemble_source)"
      ]
    },
    {
      "cell_type": "markdown",
      "metadata": {
        "id": "R_ZEnHfAj5K4"
      },
      "source": [
        "#### Aplica a votação nos valores preditos"
      ]
    },
    {
      "cell_type": "code",
      "execution_count": null,
      "metadata": {
        "id": "On80BowNj5K4"
      },
      "outputs": [],
      "source": [
        "predictions_ensemble = ensemble_voting([\n",
        "    list(df_ensemble[\"tree_classification_0\"]),\n",
        "    list(df_ensemble[\"knn_classification_0\"]),\n",
        "    list(df_ensemble[\"nb_classification_0\"]),\n",
        "    list(df_ensemble[\"tree_classification_1\"]),\n",
        "    list(df_ensemble[\"knn_classification_1\"]),\n",
        "    list(df_ensemble[\"nb_classification_1\"]),\n",
        "    list(df_ensemble[\"tree_classification_2\"]),\n",
        "    list(df_ensemble[\"knn_classification_2\"]),\n",
        "    list(df_ensemble[\"nb_classification_2\"]),\n",
        "    list(df_ensemble[\"tree_classification_3\"]),\n",
        "    list(df_ensemble[\"knn_classification_3\"]),\n",
        "    list(df_ensemble[\"nb_classification_3\"]),\n",
        "    list(df_ensemble[\"tree_classification_4\"]),\n",
        "    list(df_ensemble[\"knn_classification_4\"]),\n",
        "    list(df_ensemble[\"nb_classification_4\"])\n",
        "])"
      ]
    },
    {
      "cell_type": "markdown",
      "metadata": {
        "id": "BfRheIQkj5K5"
      },
      "source": [
        "#### Mostra os valores de previsão após votação"
      ]
    },
    {
      "cell_type": "code",
      "execution_count": null,
      "metadata": {
        "colab": {
          "base_uri": "https://localhost:8080/"
        },
        "id": "voN4lSbZHo5x",
        "outputId": "a1f4f919-0ed1-4960-9035-f2dd5905bf37"
      },
      "outputs": [
        {
          "output_type": "execute_result",
          "data": {
            "text/plain": [
              "0       4.0\n",
              "1       0.5\n",
              "2       0.5\n",
              "3      12.0\n",
              "4       0.5\n",
              "       ... \n",
              "99      2.0\n",
              "100     0.5\n",
              "101     6.0\n",
              "102     0.5\n",
              "103     0.5\n",
              "Name: ensemble, Length: 104, dtype: float64"
            ]
          },
          "metadata": {},
          "execution_count": 13
        }
      ],
      "source": [
        "pd.Series(predictions_ensemble, name=\"ensemble\")"
      ]
    }
  ],
  "metadata": {
    "colab": {
      "provenance": [],
      "include_colab_link": true
    },
    "kernelspec": {
      "display_name": "Python 3",
      "name": "python3"
    },
    "language_info": {
      "codemirror_mode": {
        "name": "ipython",
        "version": 3
      },
      "file_extension": ".py",
      "mimetype": "text/x-python",
      "name": "python",
      "nbconvert_exporter": "python",
      "pygments_lexer": "ipython3",
      "version": "3.12.1"
    }
  },
  "nbformat": 4,
  "nbformat_minor": 0
}